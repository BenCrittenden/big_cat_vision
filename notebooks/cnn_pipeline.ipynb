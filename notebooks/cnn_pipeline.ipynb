{
 "cells": [
  {
   "cell_type": "code",
   "execution_count": null,
   "id": "a5fd6514-083e-4b03-b24d-165ae677ee33",
   "metadata": {
    "tags": []
   },
   "outputs": [],
   "source": [
    "import matplotlib.pyplot as plt\n",
    "import numpy as np\n",
    "import os\n",
    "import glob\n",
    "import torch\n",
    "from torchvision import datasets, transforms\n",
    "import utils"
   ]
  },
  {
   "cell_type": "markdown",
   "id": "4e69f8d7-72c1-4106-9354-d0ebe278ad1f",
   "metadata": {},
   "source": [
    "# create data loader"
   ]
  },
  {
   "cell_type": "code",
   "execution_count": null,
   "id": "69490a2e-80c8-4dd9-af82-ee0628c11bbf",
   "metadata": {
    "tags": []
   },
   "outputs": [],
   "source": [
    "# define the tranforms\n",
    "\n",
    "train_transform = transforms.Compose([\n",
    "    transforms.RandomHorizontalFlip(),\n",
    "    transforms.RandomRotation(30),\n",
    "    transforms.ToTensor(),\n",
    "    transforms.Normalize((0.5, 0.5, 0.5), (0.5, 0.5, 0.5))\n",
    "    ])\n",
    "\n",
    "valid_test_transform = transforms.Compose([\n",
    "    transforms.ToTensor(),\n",
    "    transforms.Normalize((0.5, 0.5, 0.5), (0.5, 0.5, 0.5))\n",
    "    ])"
   ]
  },
  {
   "cell_type": "code",
   "execution_count": null,
   "id": "06003862-d37e-4440-83ab-ef0c39ff8bdc",
   "metadata": {
    "tags": []
   },
   "outputs": [],
   "source": [
    "# Load the data from the specified files\n",
    "\n",
    "train_data = datasets.ImageFolder(\"../data/train\", transform=train_transform)\n",
    "valid_data = datasets.ImageFolder(\"../data/valid\", transform=valid_test_transform)\n",
    "test_data = datasets.ImageFolder(\"../data/test\", transform=valid_test_transform)"
   ]
  },
  {
   "cell_type": "code",
   "execution_count": null,
   "id": "756445a9-ca89-4bf5-87ec-a3d7aaa166df",
   "metadata": {
    "tags": []
   },
   "outputs": [],
   "source": [
    "# specify some parameters\n",
    "# num_workers = 0\n",
    "batch_size = 10"
   ]
  },
  {
   "cell_type": "code",
   "execution_count": null,
   "id": "9e451a14-17fe-4df6-bd28-89c541abc0aa",
   "metadata": {
    "tags": []
   },
   "outputs": [],
   "source": [
    "train_loader = torch.utils.data.DataLoader(\n",
    "    train_data, \n",
    "    batch_size=batch_size,\n",
    "    # num_workers=num_workers,\n",
    "    shuffle=True\n",
    ")\n",
    "valid_loader = torch.utils.data.DataLoader(\n",
    "    train_data, \n",
    "    batch_size=5, #because there's only 5 images in the validation dir\n",
    "    # num_workers=num_workers\n",
    ")\n",
    "test_loader = torch.utils.data.DataLoader(\n",
    "    test_data, \n",
    "    batch_size=5, #because there's only 5 images in the test dir\n",
    "    # num_workers=num_workers,\n",
    ")\n"
   ]
  },
  {
   "cell_type": "code",
   "execution_count": null,
   "id": "82460956-c1e4-4f3e-8bc5-dbe87da192ae",
   "metadata": {
    "tags": []
   },
   "outputs": [],
   "source": [
    "classes = utils.listdir_ignore_hidden(\"../data/train\")\n",
    "classes = sorted([c for c in classes])"
   ]
  },
  {
   "cell_type": "code",
   "execution_count": null,
   "id": "5a29f4a3-1294-497e-aead-a8cde7afb829",
   "metadata": {
    "tags": []
   },
   "outputs": [],
   "source": [
    "utils.show_batch(train_loader, batch_size, classes)"
   ]
  },
  {
   "cell_type": "code",
   "execution_count": null,
   "id": "5eff1366-5c1c-4d79-b7d4-ae827184e439",
   "metadata": {},
   "outputs": [],
   "source": []
  }
 ],
 "metadata": {
  "kernelspec": {
   "display_name": "Python 3 (ipykernel)",
   "language": "python",
   "name": "python3"
  },
  "language_info": {
   "codemirror_mode": {
    "name": "ipython",
    "version": 3
   },
   "file_extension": ".py",
   "mimetype": "text/x-python",
   "name": "python",
   "nbconvert_exporter": "python",
   "pygments_lexer": "ipython3",
   "version": "3.8.16"
  }
 },
 "nbformat": 4,
 "nbformat_minor": 5
}
