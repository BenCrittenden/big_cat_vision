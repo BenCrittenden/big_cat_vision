{
 "cells": [
  {
   "cell_type": "code",
   "execution_count": 1,
   "id": "a5fd6514-083e-4b03-b24d-165ae677ee33",
   "metadata": {
    "tags": []
   },
   "outputs": [],
   "source": [
    "import matplotlib.pyplot as plt\n",
    "import torch"
   ]
  },
  {
   "cell_type": "markdown",
   "id": "4e69f8d7-72c1-4106-9354-d0ebe278ad1f",
   "metadata": {},
   "source": [
    "# dispaly an image"
   ]
  },
  {
   "cell_type": "code",
   "execution_count": null,
   "id": "f3474599-3c0d-4a40-96a9-e8db6ac4f1d7",
   "metadata": {},
   "outputs": [],
   "source": []
  }
 ],
 "metadata": {
  "kernelspec": {
   "display_name": "Python 3 (ipykernel)",
   "language": "python",
   "name": "python3"
  },
  "language_info": {
   "codemirror_mode": {
    "name": "ipython",
    "version": 3
   },
   "file_extension": ".py",
   "mimetype": "text/x-python",
   "name": "python",
   "nbconvert_exporter": "python",
   "pygments_lexer": "ipython3",
   "version": "3.8.16"
  }
 },
 "nbformat": 4,
 "nbformat_minor": 5
}
